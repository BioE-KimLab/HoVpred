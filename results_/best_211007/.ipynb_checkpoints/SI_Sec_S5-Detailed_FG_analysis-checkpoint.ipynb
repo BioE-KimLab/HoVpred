{
 "cells": [
  {
   "cell_type": "code",
   "execution_count": 1,
   "id": "loving-majority",
   "metadata": {},
   "outputs": [],
   "source": [
    "import pandas as pd\n",
    "import rdkit\n",
    "from collections import Counter"
   ]
  },
  {
   "cell_type": "markdown",
   "id": "reduced-israel",
   "metadata": {},
   "source": [
    "# Read DataFrame"
   ]
  },
  {
   "cell_type": "code",
   "execution_count": 2,
   "id": "organic-africa",
   "metadata": {},
   "outputs": [
    {
     "name": "stdout",
     "output_type": "stream",
     "text": [
      "3153 4247\n"
     ]
    }
   ],
   "source": [
    "df = pd.read_csv('HoV_results.csv')\n",
    "oxygenate_condition = (df.smiles.str.contains('O')) | (df.smiles.str.contains('o'))\n",
    "\n",
    "df_hydrocarbons = df[ ~oxygenate_condition ]\n",
    "df_oxygenates = df[oxygenate_condition]\n",
    "print(len(df_hydrocarbons.smiles.unique()), len(df_oxygenates.smiles.unique()))"
   ]
  },
  {
   "cell_type": "markdown",
   "id": "tracked-congress",
   "metadata": {},
   "source": [
    "# Oxygenates"
   ]
  },
  {
   "cell_type": "code",
   "execution_count": 3,
   "id": "acute-operations",
   "metadata": {},
   "outputs": [],
   "source": [
    "def oxygenates_FG(smiles):\n",
    "    mol = rdkit.Chem.MolFromSmiles(smiles)\n",
    "    \n",
    "    FG_names = ['Acyclic_Ester', 'Cyclic_Ester', \n",
    "                'Acyclic_Ether', 'Cyclic_Ether',\n",
    "                'COOH', '0ry_Alcohol', '1ry_Alcohol', '2ry_Alcohol', '3ry_Alcohol', \n",
    "                'Carbonyl1', 'Carbonyl2', 'peroxide', 'phenolics']\n",
    "    \n",
    "    SMARTS_list = ['[CX3;!R](=[OX1])O[C,c]', '[CX3;R](=[OX1])[O;R][C,c]',\n",
    "                   '[OD2;!R]([#6])[#6]', '[OD2;R]([#6;R])[#6;R]',\n",
    "                   '*-C(=O)[O;D1]', '[CH3]-[O;D1]', '[CH2]-[O;D1]', '[CH1]-[O;D1]', '[CH0]-[O;D1]',\n",
    "                    '*-C(=O)-[C;D1]', '*=[O;D1]', '[O]-[O]', '[c;R]-[O;D1]'\n",
    "                  ]\n",
    "    FG_SMARTS = [ rdkit.Chem.MolFromSmarts(x) for x in SMARTS_list  ]\n",
    "    \n",
    "    \n",
    "    FG_count = [len(mol.GetSubstructMatches(x)) for x in FG_SMARTS]\n",
    "    \n",
    "    if sum(FG_count) == 0:\n",
    "        if smiles == 'O' or smiles == '[C-]#[O+]':\n",
    "            return 'water or carbon monoxide'\n",
    "        else:\n",
    "            return 'Furanics'\n",
    "    else:\n",
    "        #FG_names_lumped = ['Acyclic_Ester', 'Cyclic_Ester', \n",
    "        #                    'Acyclic_Ether', 'Cyclic_Ether', 'COOH',\n",
    "        #                    'Alcohol', 'Carbonyls', 'peroxide', 'phenolic']\n",
    "        FG_names_lumped = ['Ester', 'Ester', \n",
    "                            'Ether', 'Ether', 'Carbonyls',\n",
    "                            'Alcohol', 'Carbonyls', 'peroxide', 'phenolic']        \n",
    "        \n",
    "        \n",
    "        FG_count = FG_count[0:5] + [sum(FG_count[5:9])] + [sum(FG_count[9:11])] + FG_count[11:]\n",
    "        FG_index = next((i for i, x in enumerate(FG_count) if x), None)\n",
    "        \n",
    "        return FG_names_lumped[FG_index]"
   ]
  },
  {
   "cell_type": "code",
   "execution_count": 4,
   "id": "irish-place",
   "metadata": {
    "scrolled": true
   },
   "outputs": [],
   "source": [
    "result = []\n",
    "for smi in df_oxygenates.smiles.unique():\n",
    "    fg = oxygenates_FG(smi)\n",
    "    result.append([smi,fg])"
   ]
  },
  {
   "cell_type": "markdown",
   "id": "becoming-blend",
   "metadata": {},
   "source": [
    "# Hydrocarbons"
   ]
  },
  {
   "cell_type": "code",
   "execution_count": 5,
   "id": "criminal-reasoning",
   "metadata": {},
   "outputs": [],
   "source": [
    "def hydrocarbons_FG(smiles):\n",
    "    mol = rdkit.Chem.MolFromSmiles(smiles)\n",
    "    \n",
    "    #FG_names = [  'Alkyne', 'Alkene', 'FusedRing-Aromatics', 'FusedRing-Cycloalkanes'  ]\n",
    "    #FG_names = [  'Alkyne', 'Alkene', 'Aromatics', 'Cycloalkanes'  ]\n",
    "    FG_names = [  'Alkyne', 'Alkene', 'FusedRings', 'FusedRings'  ]\n",
    "    SMARTS_list = [ '[C]#[C]', '[C]=[C]', '[cR2]', '[CR2]'  ]\n",
    "    \n",
    "    FG_SMARTS = [ rdkit.Chem.MolFromSmarts(x) for x in SMARTS_list  ]\n",
    "    FG_count = [len(mol.GetSubstructMatches(x)) for x in FG_SMARTS]\n",
    " \n",
    "    FG_index = next((i for i, x in enumerate(FG_count) if x), None)\n",
    "\n",
    "    if sum(FG_count) != 0:\n",
    "        return FG_names[FG_index]\n",
    "    else:\n",
    "        if '1' in smiles:\n",
    "            if 'c' in smiles:\n",
    "                #return 'Aromatics'\n",
    "                return 'Cyclics'\n",
    "            else:\n",
    "                #return 'Cycloalkanes'\n",
    "                return 'Cyclics'\n",
    "        else:\n",
    "            return 'Alkane'"
   ]
  },
  {
   "cell_type": "code",
   "execution_count": 6,
   "id": "third-think",
   "metadata": {},
   "outputs": [],
   "source": [
    "for smi in df_hydrocarbons.smiles.unique():\n",
    "    fg = hydrocarbons_FG(smi)\n",
    "    result.append([smi,fg])"
   ]
  },
  {
   "cell_type": "code",
   "execution_count": 7,
   "id": "bound-pitch",
   "metadata": {},
   "outputs": [],
   "source": [
    "pd.DataFrame(result).to_csv('functional_groups.csv',index=False, header = ['smiles','functional_group'])"
   ]
  },
  {
   "cell_type": "code",
   "execution_count": 8,
   "id": "electoral-heater",
   "metadata": {},
   "outputs": [],
   "source": [
    "for x in result:\n",
    "    smi, fg = x\n",
    "    df.loc[(df.smiles == smi), 'functional_group'] = fg"
   ]
  },
  {
   "cell_type": "code",
   "execution_count": 9,
   "id": "sharp-study",
   "metadata": {},
   "outputs": [],
   "source": [
    "import numpy as np\n",
    "df['AE'] = np.abs(df.NIST - df.Predicted)"
   ]
  },
  {
   "cell_type": "code",
   "execution_count": 10,
   "id": "aquatic-massage",
   "metadata": {},
   "outputs": [
    {
     "name": "stdout",
     "output_type": "stream",
     "text": [
      "Alcohol 1106 24134 21.82 3.69 3.67\n",
      "Alkane 454 9708 21.38 2.24 2.82\n",
      "Alkene 1083 22975 21.21 2.5 2.67\n",
      "Alkyne 153 3350 21.9 2.66 2.56\n",
      "Carbonyls 932 19372 20.79 4.46 3.53\n",
      "Cyclics 876 17108 19.53 4.37 3.27\n",
      "Ester 1044 21932 21.01 3.12 3.62\n",
      "Ether 884 18914 21.4 3.53 3.02\n",
      "Furanics 35 706 20.17 2.24 2.69\n",
      "FusedRings 587 10012 17.06 5.03 3.53\n",
      "peroxide 30 652 21.73 4.57 3.52\n",
      "phenolic 214 4233 19.78 3.7 3.47\n",
      "water or carbon monoxide 2 9 4.5 4.44 0.66\n"
     ]
    }
   ],
   "source": [
    "for fg, sub_df in df.groupby('functional_group'):\n",
    "    print(fg, len(sub_df.smiles.unique()), len(sub_df), np.round(len(sub_df) / len(sub_df.smiles.unique()),2),  \n",
    "          np.round(sub_df.AE.mean(),2), np.round(sub_df.DB_unc.mean(),2))\n",
    "    #print(len(sub_df[sub_df['Train/Valid/Test'] == 'Train']),\n",
    "    #     len(sub_df[sub_df['Train/Valid/Test'] == 'Valid']),\n",
    "    #     len(sub_df[sub_df['Train/Valid/Test'] == 'Test']))"
   ]
  },
  {
   "cell_type": "code",
   "execution_count": 12,
   "id": "ultimate-planner",
   "metadata": {},
   "outputs": [
    {
     "data": {
      "text/plain": [
       "13"
      ]
     },
     "execution_count": 12,
     "metadata": {},
     "output_type": "execute_result"
    }
   ],
   "source": [
    "len(df.functional_group.unique())"
   ]
  },
  {
   "cell_type": "code",
   "execution_count": 14,
   "id": "rubber-preview",
   "metadata": {},
   "outputs": [
    {
     "data": {
      "text/html": [
       "<div>\n",
       "<style scoped>\n",
       "    .dataframe tbody tr th:only-of-type {\n",
       "        vertical-align: middle;\n",
       "    }\n",
       "\n",
       "    .dataframe tbody tr th {\n",
       "        vertical-align: top;\n",
       "    }\n",
       "\n",
       "    .dataframe thead th {\n",
       "        text-align: right;\n",
       "    }\n",
       "</style>\n",
       "<table border=\"1\" class=\"dataframe\">\n",
       "  <thead>\n",
       "    <tr style=\"text-align: right;\">\n",
       "      <th></th>\n",
       "      <th>smiles</th>\n",
       "      <th>functional_group</th>\n",
       "    </tr>\n",
       "  </thead>\n",
       "  <tbody>\n",
       "    <tr>\n",
       "      <th>0</th>\n",
       "      <td>C#CC(=O)OC</td>\n",
       "      <td>Ester</td>\n",
       "    </tr>\n",
       "    <tr>\n",
       "      <th>1</th>\n",
       "      <td>C#CC(=O)OCC</td>\n",
       "      <td>Ester</td>\n",
       "    </tr>\n",
       "    <tr>\n",
       "      <th>2</th>\n",
       "      <td>C#CC(=O)Oc1ccc(C(C)(C)c2ccc(OC(=O)C#C)cc2)cc1</td>\n",
       "      <td>Ester</td>\n",
       "    </tr>\n",
       "    <tr>\n",
       "      <th>3</th>\n",
       "      <td>C#CC(=O)Oc1ccc(OC(=O)C#C)cc1</td>\n",
       "      <td>Ester</td>\n",
       "    </tr>\n",
       "    <tr>\n",
       "      <th>4</th>\n",
       "      <td>C#CC(=O)Oc1ccc(Oc2ccc(OC(=O)C#C)cc2)cc1</td>\n",
       "      <td>Ester</td>\n",
       "    </tr>\n",
       "    <tr>\n",
       "      <th>...</th>\n",
       "      <td>...</td>\n",
       "      <td>...</td>\n",
       "    </tr>\n",
       "    <tr>\n",
       "      <th>7395</th>\n",
       "      <td>c1ccc2cc3c(ccc4ccccc43)cc2c1</td>\n",
       "      <td>FusedRings</td>\n",
       "    </tr>\n",
       "    <tr>\n",
       "      <th>7396</th>\n",
       "      <td>c1ccc2cccc-2cc1</td>\n",
       "      <td>FusedRings</td>\n",
       "    </tr>\n",
       "    <tr>\n",
       "      <th>7397</th>\n",
       "      <td>c1ccc2ccccc2c1</td>\n",
       "      <td>FusedRings</td>\n",
       "    </tr>\n",
       "    <tr>\n",
       "      <th>7398</th>\n",
       "      <td>c1ccccc#1</td>\n",
       "      <td>Cyclics</td>\n",
       "    </tr>\n",
       "    <tr>\n",
       "      <th>7399</th>\n",
       "      <td>c1ccccc1</td>\n",
       "      <td>Cyclics</td>\n",
       "    </tr>\n",
       "  </tbody>\n",
       "</table>\n",
       "<p>7400 rows × 2 columns</p>\n",
       "</div>"
      ],
      "text/plain": [
       "                                             smiles functional_group\n",
       "0                                        C#CC(=O)OC            Ester\n",
       "1                                       C#CC(=O)OCC            Ester\n",
       "2     C#CC(=O)Oc1ccc(C(C)(C)c2ccc(OC(=O)C#C)cc2)cc1            Ester\n",
       "3                      C#CC(=O)Oc1ccc(OC(=O)C#C)cc1            Ester\n",
       "4           C#CC(=O)Oc1ccc(Oc2ccc(OC(=O)C#C)cc2)cc1            Ester\n",
       "...                                             ...              ...\n",
       "7395                   c1ccc2cc3c(ccc4ccccc43)cc2c1       FusedRings\n",
       "7396                                c1ccc2cccc-2cc1       FusedRings\n",
       "7397                                 c1ccc2ccccc2c1       FusedRings\n",
       "7398                                      c1ccccc#1          Cyclics\n",
       "7399                                       c1ccccc1          Cyclics\n",
       "\n",
       "[7400 rows x 2 columns]"
      ]
     },
     "execution_count": 14,
     "metadata": {},
     "output_type": "execute_result"
    }
   ],
   "source": [
    "df_each_molecule = pd.read_csv('functional_groups.csv')\n",
    "df_each_molecule"
   ]
  },
  {
   "cell_type": "code",
   "execution_count": 15,
   "id": "irish-viking",
   "metadata": {},
   "outputs": [
    {
     "name": "stderr",
     "output_type": "stream",
     "text": [
      "100%|██████████| 7400/7400 [00:12<00:00, 608.44it/s]\n"
     ]
    }
   ],
   "source": [
    "from tqdm import tqdm\n",
    "for smi, sub_df in tqdm(df.groupby('smiles')):\n",
    "    df_each_molecule.loc[ (df_each_molecule.smiles == smi),'N_data'] = len(sub_df)\n",
    "    df_each_molecule.loc[ (df_each_molecule.smiles == smi),'MAE'] = sub_df.AE.mean()"
   ]
  },
  {
   "cell_type": "code",
   "execution_count": 16,
   "id": "pregnant-branch",
   "metadata": {},
   "outputs": [],
   "source": [
    "Outliers = df_each_molecule.sort_values(by=['MAE'], ascending = False).iloc[0:5]"
   ]
  },
  {
   "cell_type": "code",
   "execution_count": 17,
   "id": "julian-blanket",
   "metadata": {},
   "outputs": [
    {
     "data": {
      "text/html": [
       "<div>\n",
       "<style scoped>\n",
       "    .dataframe tbody tr th:only-of-type {\n",
       "        vertical-align: middle;\n",
       "    }\n",
       "\n",
       "    .dataframe tbody tr th {\n",
       "        vertical-align: top;\n",
       "    }\n",
       "\n",
       "    .dataframe thead th {\n",
       "        text-align: right;\n",
       "    }\n",
       "</style>\n",
       "<table border=\"1\" class=\"dataframe\">\n",
       "  <thead>\n",
       "    <tr style=\"text-align: right;\">\n",
       "      <th></th>\n",
       "      <th>smiles</th>\n",
       "      <th>functional_group</th>\n",
       "      <th>N_data</th>\n",
       "      <th>MAE</th>\n",
       "    </tr>\n",
       "  </thead>\n",
       "  <tbody>\n",
       "    <tr>\n",
       "      <th>4247</th>\n",
       "      <td>C</td>\n",
       "      <td>Alkane</td>\n",
       "      <td>3.0</td>\n",
       "      <td>81.400227</td>\n",
       "    </tr>\n",
       "    <tr>\n",
       "      <th>4541</th>\n",
       "      <td>C1CCCCCCCCCCCCCCCCCCCCCCCCC1</td>\n",
       "      <td>Cyclics</td>\n",
       "      <td>14.0</td>\n",
       "      <td>46.232156</td>\n",
       "    </tr>\n",
       "    <tr>\n",
       "      <th>4036</th>\n",
       "      <td>O=c1c(-c2ccccc2)c1-c1ccccc1</td>\n",
       "      <td>Carbonyls</td>\n",
       "      <td>16.0</td>\n",
       "      <td>45.770905</td>\n",
       "    </tr>\n",
       "    <tr>\n",
       "      <th>3987</th>\n",
       "      <td>O=C1c2cc3ccccc3cc2C(=O)c2cc3ccccc3cc21</td>\n",
       "      <td>Carbonyls</td>\n",
       "      <td>17.0</td>\n",
       "      <td>43.627844</td>\n",
       "    </tr>\n",
       "    <tr>\n",
       "      <th>102</th>\n",
       "      <td>C1COCCOCCOCCOCCOCCOCCOCCO1</td>\n",
       "      <td>Ether</td>\n",
       "      <td>15.0</td>\n",
       "      <td>43.453448</td>\n",
       "    </tr>\n",
       "  </tbody>\n",
       "</table>\n",
       "</div>"
      ],
      "text/plain": [
       "                                      smiles functional_group  N_data  \\\n",
       "4247                                       C           Alkane     3.0   \n",
       "4541            C1CCCCCCCCCCCCCCCCCCCCCCCCC1          Cyclics    14.0   \n",
       "4036             O=c1c(-c2ccccc2)c1-c1ccccc1        Carbonyls    16.0   \n",
       "3987  O=C1c2cc3ccccc3cc2C(=O)c2cc3ccccc3cc21        Carbonyls    17.0   \n",
       "102               C1COCCOCCOCCOCCOCCOCCOCCO1            Ether    15.0   \n",
       "\n",
       "            MAE  \n",
       "4247  81.400227  \n",
       "4541  46.232156  \n",
       "4036  45.770905  \n",
       "3987  43.627844  \n",
       "102   43.453448  "
      ]
     },
     "execution_count": 17,
     "metadata": {},
     "output_type": "execute_result"
    }
   ],
   "source": [
    "Outliers"
   ]
  },
  {
   "cell_type": "code",
   "execution_count": null,
   "id": "selected-tribe",
   "metadata": {},
   "outputs": [],
   "source": []
  }
 ],
 "metadata": {
  "kernelspec": {
   "display_name": "Python 3",
   "language": "python",
   "name": "python3"
  },
  "language_info": {
   "codemirror_mode": {
    "name": "ipython",
    "version": 3
   },
   "file_extension": ".py",
   "mimetype": "text/x-python",
   "name": "python",
   "nbconvert_exporter": "python",
   "pygments_lexer": "ipython3",
   "version": "3.7.9"
  }
 },
 "nbformat": 4,
 "nbformat_minor": 5
}
