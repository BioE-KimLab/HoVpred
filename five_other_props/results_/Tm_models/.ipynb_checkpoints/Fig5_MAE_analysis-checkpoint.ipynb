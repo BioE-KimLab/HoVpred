{
 "cells": [
  {
   "cell_type": "code",
   "execution_count": 1,
   "id": "53d05edc-3366-4446-b681-b3538484d442",
   "metadata": {},
   "outputs": [],
   "source": [
    "import glob\n",
    "import numpy as np\n",
    "import pandas as pd"
   ]
  },
  {
   "cell_type": "code",
   "execution_count": 2,
   "id": "5eaa4a86-411b-419e-ad9a-0a154ee308b3",
   "metadata": {},
   "outputs": [],
   "source": [
    "DFs_notfl = [pd.read_csv(x) for x in sorted(glob.glob(\"tm_notfl_*/results.csv\"))]\n",
    "DFs_tfl_1 = [pd.read_csv(x) for x in sorted(glob.glob(\"tm_tfl_1_*/results.csv\"))]\n",
    "DFs_tfl_2 = [pd.read_csv(x) for x in sorted(glob.glob(\"tm_tfl_2_*/results.csv\"))]\n",
    "DFs_tfl_3 = [pd.read_csv(x) for x in sorted(glob.glob(\"tm_tfl_3_*/results.csv\"))]\n",
    "DFs_tfl_4 = [pd.read_csv(x) for x in sorted(glob.glob(\"tm_tfl_4_*/results.csv\"))]\n",
    "DFs_tfl_5 = [pd.read_csv(x) for x in sorted(glob.glob(\"tm_tfl_5_*/results.csv\"))]\n",
    "DFs_tfl_6 = [pd.read_csv(x) for x in sorted(glob.glob(\"tm_tfl_6_*/results.csv\"))]"
   ]
  },
  {
   "cell_type": "code",
   "execution_count": 3,
   "id": "6733095c-05c5-43f9-86bb-ab14fe102070",
   "metadata": {},
   "outputs": [],
   "source": [
    "def get_MAEs(DFs):\n",
    "    MAEs = []\n",
    "    for df in DFs:\n",
    "        df['AE'] = np.abs(df['DB_value'] - df['Predicted'])\n",
    "        MAEs.append([df[df['Train/Valid/Test'] == 'Train'].AE.mean(), \n",
    "              df[df['Train/Valid/Test'] == 'Valid'].AE.mean(),\n",
    "              df[df['Train/Valid/Test'] == 'Test'].AE.mean(),\n",
    "              df[df['Train/Valid/Test'] != 'Train'].AE.mean(),\n",
    "              df.AE.mean()])\n",
    "        \n",
    "    return np.array(MAEs)"
   ]
  },
  {
   "cell_type": "code",
   "execution_count": 4,
   "id": "91eb52ed-088b-4318-9b95-30f72925d253",
   "metadata": {},
   "outputs": [],
   "source": [
    "notfl_MAEs, tfl1_MAEs, tfl2_MAEs, tfl3_MAEs, tfl4_MAEs, tfl5_MAEs, tfl6_MAEs = get_MAEs(DFs_notfl), \\\n",
    "                                                                               get_MAEs(DFs_tfl_1), \\\n",
    "                                                                               get_MAEs(DFs_tfl_2), \\\n",
    "                                                                               get_MAEs(DFs_tfl_3), \\\n",
    "                                                                               get_MAEs(DFs_tfl_4), \\\n",
    "                                                                               get_MAEs(DFs_tfl_5), \\\n",
    "                                                                               get_MAEs(DFs_tfl_6) "
   ]
  },
  {
   "cell_type": "code",
   "execution_count": 5,
   "id": "de818425-81da-4b20-9a8c-81a4ecaa5167",
   "metadata": {},
   "outputs": [
    {
     "data": {
      "text/plain": [
       "array([[23.14629395, 29.72847511, 27.35844539, 28.54346025, 24.22572721],\n",
       "       [21.04491497, 24.36284696, 33.10531913, 28.73408304, 22.58274858],\n",
       "       [76.52244636, 74.25594098, 71.06803435, 72.66198766, 75.75035462],\n",
       "       [29.23850504, 32.61087033, 44.4791113 , 38.54499082, 31.0998022 ],\n",
       "       [23.14061643, 60.34723841, 29.21947658, 44.78335749, 27.46916465],\n",
       "       [20.05229076, 26.71155424, 68.80684048, 47.75919736, 25.59367208],\n",
       "       [18.26736725, 21.04611239, 71.96388091, 46.50499665, 23.91489313],\n",
       "       [24.38374067, 27.46887522, 33.88981174, 30.67934348, 25.64286123],\n",
       "       [39.42180122, 35.61758548, 44.53737967, 40.07748258, 39.55293749],\n",
       "       [24.40978832, 30.77988402, 28.91640174, 29.84814288, 25.49745923],\n",
       "       [58.56672555, 42.47122038, 47.25576391, 44.86349215, 55.82607887],\n",
       "       [21.65442899, 29.31880533, 32.08369037, 30.70124785, 23.46379276],\n",
       "       [22.03589732, 34.81947207, 28.84973602, 31.83460404, 23.99563867],\n",
       "       [22.39293683, 27.53346267, 29.20453087, 28.36899677, 23.58814882],\n",
       "       [21.10168958, 24.74498467, 29.01626511, 26.88062489, 22.25747664],\n",
       "       [38.35327467, 39.16425609, 41.36950196, 40.26687902, 38.73599554],\n",
       "       [28.8613261 , 27.25707707, 30.60237664, 28.92972685, 28.87500625],\n",
       "       [17.69514333, 61.47414989, 33.66451141, 47.56933065, 23.66998079],\n",
       "       [25.63062164, 25.50297876, 46.17408272, 35.83853074, 27.67220346],\n",
       "       [20.0367265 , 28.36274554, 32.33418428, 30.34846491, 22.09907418]])"
      ]
     },
     "execution_count": 5,
     "metadata": {},
     "output_type": "execute_result"
    }
   ],
   "source": [
    "notfl_MAEs"
   ]
  },
  {
   "cell_type": "code",
   "execution_count": 6,
   "id": "50909db2-b121-4e1c-8961-7ab9e237227c",
   "metadata": {},
   "outputs": [
    {
     "name": "stdout",
     "output_type": "stream",
     "text": [
      "40.194967229347824 , 14.22044762999069 ,\n",
      "33.16914658532609 , 12.478408406154024 ,\n",
      "32.48298950108696 , 12.953423551422242 ,\n",
      "33.66926072934782 , 12.596110515586364 ,\n",
      "35.544380132065214 , 11.565835231303156 ,\n",
      "36.242811741847824 , 11.004320986482782 ,\n",
      "39.72848602282608 , 11.26428497613159 ,\n"
     ]
    }
   ],
   "source": [
    "for MAEs in [notfl_MAEs, tfl1_MAEs, tfl2_MAEs, tfl3_MAEs, tfl4_MAEs, tfl5_MAEs, tfl6_MAEs]:\n",
    "    print(np.mean(MAEs[:,2]), ',', np.std(MAEs[:,2]), ',')\n"
   ]
  },
  {
   "cell_type": "code",
   "execution_count": null,
   "id": "6944746e-22f5-4c70-85c7-87137a24f012",
   "metadata": {},
   "outputs": [],
   "source": []
  }
 ],
 "metadata": {
  "kernelspec": {
   "display_name": "Python 3",
   "language": "python",
   "name": "python3"
  },
  "language_info": {
   "codemirror_mode": {
    "name": "ipython",
    "version": 3
   },
   "file_extension": ".py",
   "mimetype": "text/x-python",
   "name": "python",
   "nbconvert_exporter": "python",
   "pygments_lexer": "ipython3",
   "version": "3.8.11"
  }
 },
 "nbformat": 4,
 "nbformat_minor": 5
}
