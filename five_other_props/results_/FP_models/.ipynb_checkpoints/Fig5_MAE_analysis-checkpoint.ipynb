{
 "cells": [
  {
   "cell_type": "code",
   "execution_count": 1,
   "id": "53d05edc-3366-4446-b681-b3538484d442",
   "metadata": {},
   "outputs": [],
   "source": [
    "import glob\n",
    "import numpy as np\n",
    "import pandas as pd"
   ]
  },
  {
   "cell_type": "code",
   "execution_count": 2,
   "id": "5eaa4a86-411b-419e-ad9a-0a154ee308b3",
   "metadata": {},
   "outputs": [],
   "source": [
    "DFs_notfl = [pd.read_csv(x) for x in sorted(glob.glob(\"fp_notfl_*/results.csv\"))]\n",
    "DFs_tfl_1 = [pd.read_csv(x) for x in sorted(glob.glob(\"fp_tfl_1_*/results.csv\"))]\n",
    "DFs_tfl_2 = [pd.read_csv(x) for x in sorted(glob.glob(\"fp_tfl_2_*/results.csv\"))]\n",
    "DFs_tfl_3 = [pd.read_csv(x) for x in sorted(glob.glob(\"fp_tfl_3_*/results.csv\"))]\n",
    "DFs_tfl_4 = [pd.read_csv(x) for x in sorted(glob.glob(\"fp_tfl_4_*/results.csv\"))]\n",
    "DFs_tfl_5 = [pd.read_csv(x) for x in sorted(glob.glob(\"fp_tfl_5_*/results.csv\"))]\n",
    "DFs_tfl_6 = [pd.read_csv(x) for x in sorted(glob.glob(\"fp_tfl_6_*/results.csv\"))]"
   ]
  },
  {
   "cell_type": "code",
   "execution_count": 3,
   "id": "6733095c-05c5-43f9-86bb-ab14fe102070",
   "metadata": {},
   "outputs": [],
   "source": [
    "def get_MAEs(DFs):\n",
    "    MAEs = []\n",
    "    for df in DFs:\n",
    "        df['AE'] = np.abs(df['DB_value'] - df['Predicted'])\n",
    "        MAEs.append([df[df['Train/Valid/Test'] == 'Train'].AE.mean(), \n",
    "              df[df['Train/Valid/Test'] == 'Valid'].AE.mean(),\n",
    "              df[df['Train/Valid/Test'] == 'Test'].AE.mean(),\n",
    "              df[df['Train/Valid/Test'] != 'Train'].AE.mean(),\n",
    "              df.AE.mean()])\n",
    "        \n",
    "    return np.array(MAEs)"
   ]
  },
  {
   "cell_type": "code",
   "execution_count": 4,
   "id": "91eb52ed-088b-4318-9b95-30f72925d253",
   "metadata": {},
   "outputs": [],
   "source": [
    "notfl_MAEs, tfl1_MAEs, tfl2_MAEs, tfl3_MAEs, tfl4_MAEs, tfl5_MAEs, tfl6_MAEs = get_MAEs(DFs_notfl), \\\n",
    "                                                                               get_MAEs(DFs_tfl_1), \\\n",
    "                                                                               get_MAEs(DFs_tfl_2), \\\n",
    "                                                                               get_MAEs(DFs_tfl_3), \\\n",
    "                                                                               get_MAEs(DFs_tfl_4), \\\n",
    "                                                                               get_MAEs(DFs_tfl_5), \\\n",
    "                                                                               get_MAEs(DFs_tfl_6) "
   ]
  },
  {
   "cell_type": "code",
   "execution_count": 5,
   "id": "50909db2-b121-4e1c-8961-7ab9e237227c",
   "metadata": {},
   "outputs": [
    {
     "name": "stdout",
     "output_type": "stream",
     "text": [
      "13.13936367605634 , 1.950663283349146 ,\n",
      "12.363157471830984 , 1.9234479475971815 ,\n",
      "10.755499366197181 , 1.8306330381346498 ,\n",
      "10.223463873239439 , 1.9835689041366062 ,\n",
      "9.201601619718309 , 1.179835124046147 ,\n",
      "9.449778633802818 , 1.54264841698527 ,\n",
      "9.349658591549296 , 1.6050570777555029 ,\n"
     ]
    }
   ],
   "source": [
    "for MAEs in [notfl_MAEs, tfl1_MAEs, tfl2_MAEs, tfl3_MAEs, tfl4_MAEs, tfl5_MAEs, tfl6_MAEs]:\n",
    "    #print(min(MAEs[:,1]), np.mean(MAEs[:,1]), np.std(MAEs[:,1]))\n",
    "    #print(min(MAEs[:,2]), np.mean(MAEs[:,2]), np.std(MAEs[:,2]))\n",
    "    print(np.mean(MAEs[:,2]), ',', np.std(MAEs[:,2]), ',')\n"
   ]
  },
  {
   "cell_type": "code",
   "execution_count": null,
   "id": "e8271f50-195a-4517-a835-e6847f8df853",
   "metadata": {},
   "outputs": [],
   "source": []
  }
 ],
 "metadata": {
  "kernelspec": {
   "display_name": "Python 3",
   "language": "python",
   "name": "python3"
  },
  "language_info": {
   "codemirror_mode": {
    "name": "ipython",
    "version": 3
   },
   "file_extension": ".py",
   "mimetype": "text/x-python",
   "name": "python",
   "nbconvert_exporter": "python",
   "pygments_lexer": "ipython3",
   "version": "3.8.11"
  }
 },
 "nbformat": 4,
 "nbformat_minor": 5
}
