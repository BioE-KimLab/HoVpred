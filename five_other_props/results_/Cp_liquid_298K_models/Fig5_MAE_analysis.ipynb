{
 "cells": [
  {
   "cell_type": "code",
   "execution_count": 1,
   "id": "53d05edc-3366-4446-b681-b3538484d442",
   "metadata": {},
   "outputs": [],
   "source": [
    "import glob\n",
    "import numpy as np\n",
    "import pandas as pd"
   ]
  },
  {
   "cell_type": "code",
   "execution_count": 2,
   "id": "5eaa4a86-411b-419e-ad9a-0a154ee308b3",
   "metadata": {},
   "outputs": [],
   "source": [
    "DFs_notfl = [pd.read_csv(x) for x in sorted(glob.glob(\"liq_cp_notfl_*/results.csv\"))]\n",
    "DFs_tfl_1 = [pd.read_csv(x) for x in sorted(glob.glob(\"liq_Cp_tfl_1_*/results.csv\"))]\n",
    "DFs_tfl_2 = [pd.read_csv(x) for x in sorted(glob.glob(\"liq_Cp_tfl_2_*/results.csv\"))]\n",
    "DFs_tfl_3 = [pd.read_csv(x) for x in sorted(glob.glob(\"liq_Cp_tfl_3_*/results.csv\"))]\n",
    "DFs_tfl_4 = [pd.read_csv(x) for x in sorted(glob.glob(\"liq_Cp_tfl_4_*/results.csv\"))]\n",
    "DFs_tfl_5 = [pd.read_csv(x) for x in sorted(glob.glob(\"liq_Cp_tfl_5_*/results.csv\"))]\n",
    "DFs_tfl_6 = [pd.read_csv(x) for x in sorted(glob.glob(\"liq_Cp_tfl_6_*/results.csv\"))]"
   ]
  },
  {
   "cell_type": "code",
   "execution_count": 3,
   "id": "6733095c-05c5-43f9-86bb-ab14fe102070",
   "metadata": {},
   "outputs": [],
   "source": [
    "def get_MAEs(DFs):\n",
    "    MAEs = []\n",
    "    for df in DFs:\n",
    "        df['AE'] = np.abs(df['DB_value'] - df['Predicted'])\n",
    "        MAEs.append([df[df['Train/Valid/Test'] == 'Train'].AE.mean(), \n",
    "              df[df['Train/Valid/Test'] == 'Valid'].AE.mean(),\n",
    "              df[df['Train/Valid/Test'] == 'Test'].AE.mean(),\n",
    "              df[df['Train/Valid/Test'] != 'Train'].AE.mean(),\n",
    "              df.AE.mean()])\n",
    "        \n",
    "    return np.array(MAEs)"
   ]
  },
  {
   "cell_type": "code",
   "execution_count": 4,
   "id": "91eb52ed-088b-4318-9b95-30f72925d253",
   "metadata": {},
   "outputs": [],
   "source": [
    "notfl_MAEs, tfl1_MAEs, tfl2_MAEs, tfl3_MAEs, tfl4_MAEs, tfl5_MAEs, tfl6_MAEs = get_MAEs(DFs_notfl), \\\n",
    "                                                                               get_MAEs(DFs_tfl_1), \\\n",
    "                                                                               get_MAEs(DFs_tfl_2), \\\n",
    "                                                                               get_MAEs(DFs_tfl_3), \\\n",
    "                                                                               get_MAEs(DFs_tfl_4), \\\n",
    "                                                                               get_MAEs(DFs_tfl_5), \\\n",
    "                                                                               get_MAEs(DFs_tfl_6) "
   ]
  },
  {
   "cell_type": "code",
   "execution_count": 5,
   "id": "0c991e24-9b0a-4173-be93-0229559704f1",
   "metadata": {},
   "outputs": [
    {
     "data": {
      "text/plain": [
       "array([[ 54.39893505,  65.72724103, 110.11014416,  87.77552194,\n",
       "         61.05707014],\n",
       "       [ 52.6218164 ,  97.52147436, 104.36614675, 100.92173097,\n",
       "         62.25693449],\n",
       "       [ 90.43175627,  94.71399744,  88.12908701,  91.44278387,\n",
       "         90.63344131],\n",
       "       [ 72.91514502,  84.59406923,  83.67205584,  84.13603677,\n",
       "         75.15354685],\n",
       "       [ 72.67553264,  77.63261538, 100.72091688,  89.10228774,\n",
       "         75.95242716],\n",
       "       [ 61.85536576, 101.99632436,  89.7426039 ,  95.90899226,\n",
       "         68.64856023],\n",
       "       [ 52.46103826,  85.10192949, 119.95411688, 102.41559677,\n",
       "         62.42623333],\n",
       "       [ 83.73609132,  75.11730513, 108.91596364,  91.90760645,\n",
       "         85.36618764],\n",
       "       [ 62.32861431,  56.35383462, 103.53873636,  79.79407613,\n",
       "         65.81271544],\n",
       "       [ 76.24684904,  67.38142179,  97.14085195,  82.16513871,\n",
       "         77.42746023],\n",
       "       [ 79.52737701,  66.76992051, 102.03787792,  84.29013161,\n",
       "         80.47747606],\n",
       "       [ 56.12850949,  71.49569487, 119.07043766,  95.12959935,\n",
       "         63.90864968],\n",
       "       [ 46.28876559,  85.12693974,  99.48855974,  92.26142194,\n",
       "         55.45963012],\n",
       "       [ 80.09144453,  69.36400641,  93.12214805,  81.16643806,\n",
       "         80.30588983],\n",
       "       [ 76.04087846,  82.85786282,  89.68395195,  86.24888774,\n",
       "         78.07722523],\n",
       "       [ 69.01380129,  96.25982308,  77.10509221,  86.7442471 ,\n",
       "         72.55076281],\n",
       "       [ 62.01216447,  75.22876538, 121.09091688,  98.01189871,\n",
       "         69.19357864],\n",
       "       [ 65.06761318,  78.32387436,  80.97191299,  79.63935161,\n",
       "         67.97445933],\n",
       "       [ 57.26610322,  79.14638077,  90.51068312,  84.7918729 ,\n",
       "         62.75708687],\n",
       "       [ 71.79556961,  58.70598462,  92.67358701,  75.5802129 ,\n",
       "         72.55054994]])"
      ]
     },
     "execution_count": 5,
     "metadata": {},
     "output_type": "execute_result"
    }
   ],
   "source": [
    "notfl_MAEs"
   ]
  },
  {
   "cell_type": "code",
   "execution_count": 6,
   "id": "50909db2-b121-4e1c-8961-7ab9e237227c",
   "metadata": {},
   "outputs": [
    {
     "name": "stdout",
     "output_type": "stream",
     "text": [
      "98.60228954545455 , 12.430679998793453 ,\n",
      "98.40665571428572 , 13.708202589903442 ,\n",
      "101.38162753246753 , 12.732416890809366 ,\n",
      "100.09657396103896 , 14.93425321481209 ,\n",
      "106.39315077922079 , 15.163288587921334 ,\n",
      "139.51223538961034 , 15.865406858668601 ,\n",
      "144.14239012987017 , 18.372066684012466 ,\n"
     ]
    }
   ],
   "source": [
    "for MAEs in [notfl_MAEs, tfl1_MAEs, tfl2_MAEs, tfl3_MAEs, tfl4_MAEs, tfl5_MAEs, tfl6_MAEs]:\n",
    "    print(np.mean(MAEs[:,2]), ',', np.std(MAEs[:,2]), ',')"
   ]
  },
  {
   "cell_type": "code",
   "execution_count": null,
   "id": "e8c57aa8-dd96-4e60-a6bf-df2ca9777c5d",
   "metadata": {},
   "outputs": [],
   "source": []
  }
 ],
 "metadata": {
  "kernelspec": {
   "display_name": "Python 3",
   "language": "python",
   "name": "python3"
  },
  "language_info": {
   "codemirror_mode": {
    "name": "ipython",
    "version": 3
   },
   "file_extension": ".py",
   "mimetype": "text/x-python",
   "name": "python",
   "nbconvert_exporter": "python",
   "pygments_lexer": "ipython3",
   "version": "3.8.11"
  }
 },
 "nbformat": 4,
 "nbformat_minor": 5
}
