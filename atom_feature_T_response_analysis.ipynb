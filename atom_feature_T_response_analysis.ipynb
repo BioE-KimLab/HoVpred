{
 "cells": [
  {
   "cell_type": "code",
   "execution_count": 1,
   "id": "bfeb39cc",
   "metadata": {},
   "outputs": [
    {
     "name": "stderr",
     "output_type": "stream",
     "text": [
      "Using backend: tensorflow\n"
     ]
    }
   ],
   "source": [
    "import pandas as pd\n",
    "import tensorflow as tf\n",
    "import rdkit\n",
    "from main import create_input, create_model, predict\n",
    "from argparse import ArgumentParser\n",
    "from molgraph import single_mol_from_supergraph\n",
    "import numpy as np"
   ]
  },
  {
   "cell_type": "markdown",
   "id": "a0ab098f",
   "metadata": {},
   "source": [
    "# Run predictive model"
   ]
  },
  {
   "cell_type": "code",
   "execution_count": 2,
   "id": "f2eb1bf2",
   "metadata": {},
   "outputs": [],
   "source": [
    "parser = ArgumentParser()\n",
    "parser.add_argument('-predict', action=\"store_true\", default=True)\n",
    "parser.add_argument('-watsoneq', action='store_true', default=False)\n",
    "parser.add_argument('-K_fold', action='store_true', default=False)\n",
    "parser.add_argument('-maxatoms', type=int, default=64)\n",
    "parser.add_argument('-lr', type=float, default=5.0e-4)\n",
    "parser.add_argument('-epoch', type=int, default=100)\n",
    "parser.add_argument('-batchsize', type=int, default=256)\n",
    "parser.add_argument('-layers', type=int, default=5)\n",
    "parser.add_argument('-heads', type=int, default=5)\n",
    "parser.add_argument('-residcon', action=\"store_true\", default=True)\n",
    "parser.add_argument('-explicitH', action=\"store_true\", default=False)\n",
    "parser.add_argument('-dropout', type=float, default=0.0)\n",
    "parser.add_argument('-modelname', type=str, default='best_211007')\n",
    "parser.add_argument('-num_hidden', type=int, default=32)\n",
    "parser.add_argument('-train_only', action=\"store_true\", default=False)\n",
    "parser.add_argument('-sw_thr', type=float, default=0.0)\n",
    "parser.add_argument('-sw_decay', type=int, default=1)\n",
    "parser.add_argument('-loss', type=str, default='kl_div_normal')\n",
    "args = parser.parse_args('')"
   ]
  },
  {
   "cell_type": "code",
   "execution_count": 3,
   "id": "d9f88cb9",
   "metadata": {},
   "outputs": [],
   "source": [
    "df = pd.read_csv('data/Data_211005.csv')\n",
    "tmp = []\n",
    "#for smi in df.smiles.unique():\n",
    "#    tmp.append([smi,298.15])\n",
    "#pd.DataFrame(tmp).to_csv('molecules_to_predict.csv', header=['smiles','temperature'], index=False)\n",
    "pd.DataFrame(df[['smiles','Train/Valid/Test','temperature','HoV (kJ/mol)']]).to_csv('molecules_to_predict.csv', index=False)"
   ]
  },
  {
   "cell_type": "code",
   "execution_count": 4,
   "id": "ca09dbbd",
   "metadata": {},
   "outputs": [
    {
     "name": "stdout",
     "output_type": "stream",
     "text": [
      "<gnn.GAT_unc object at 0x102c52100>\n",
      "0\n",
      "1\n",
      "2\n",
      "3\n",
      "4\n"
     ]
    }
   ],
   "source": [
    "device ='/cpu:0'\n",
    "data = pd.read_csv('molecules_to_predict.csv')\n",
    "data['total_atoms'] = [ rdkit.Chem.MolFromSmiles(smi).GetNumHeavyAtoms() for smi in data.smiles]\n",
    "INPUT = create_input(data, device, args)\n",
    "data, num_mols, T, Graphs, seg = INPUT\n",
    "atom_feat_dim = Graphs.ndata['feat'].shape[-1]\n",
    "model, model_name = create_model(args, atom_feat_dim, '')\n",
    "################\n",
    "Predicted_HoV, atom_features_each_layer, Attention_each_layer, before_T_update, after_T_update = predict(model, \\\n",
    "                                                                                  Graphs.ndata['feat'], Graphs, \\\n",
    "                                                         seg, args.maxatoms, T, '', num_mols, mu_s_NLR=[])\n",
    "if len(Predicted_HoV.shape) == 2: # mean+std learning\n",
    "    pred_mean, pred_stddev = Predicted_HoV[:, 0], Predicted_HoV[:, 1]\n",
    "    data['Predicted'] = pred_mean.numpy()\n",
    "    data['ML_unc'] = pred_stddev.numpy()\n",
    "else:\n",
    "    data['Predicted'] = Predicted_HoV.numpy()"
   ]
  },
  {
   "cell_type": "code",
   "execution_count": 5,
   "id": "8b4a9a3a",
   "metadata": {},
   "outputs": [
    {
     "data": {
      "text/plain": [
       "4.213752654098938"
      ]
     },
     "execution_count": 5,
     "metadata": {},
     "output_type": "execute_result"
    }
   ],
   "source": [
    "#Just to test if the model was loaded properly\n",
    "valid = data[data['Train/Valid/Test'] == 'Valid']\n",
    "np.abs(valid.Predicted - valid['HoV (kJ/mol)']).mean()"
   ]
  },
  {
   "cell_type": "code",
   "execution_count": 6,
   "id": "531e63d0",
   "metadata": {},
   "outputs": [
    {
     "data": {
      "text/html": [
       "<div>\n",
       "<style scoped>\n",
       "    .dataframe tbody tr th:only-of-type {\n",
       "        vertical-align: middle;\n",
       "    }\n",
       "\n",
       "    .dataframe tbody tr th {\n",
       "        vertical-align: top;\n",
       "    }\n",
       "\n",
       "    .dataframe thead th {\n",
       "        text-align: right;\n",
       "    }\n",
       "</style>\n",
       "<table border=\"1\" class=\"dataframe\">\n",
       "  <thead>\n",
       "    <tr style=\"text-align: right;\">\n",
       "      <th></th>\n",
       "      <th>smiles</th>\n",
       "      <th>Train/Valid/Test</th>\n",
       "      <th>temperature</th>\n",
       "      <th>HoV (kJ/mol)</th>\n",
       "      <th>total_atoms</th>\n",
       "      <th>Predicted</th>\n",
       "      <th>ML_unc</th>\n",
       "    </tr>\n",
       "  </thead>\n",
       "  <tbody>\n",
       "    <tr>\n",
       "      <th>137734</th>\n",
       "      <td>C</td>\n",
       "      <td>Test</td>\n",
       "      <td>150.0000</td>\n",
       "      <td>6.61901</td>\n",
       "      <td>1</td>\n",
       "      <td>87.557961</td>\n",
       "      <td>22.069706</td>\n",
       "    </tr>\n",
       "    <tr>\n",
       "      <th>137736</th>\n",
       "      <td>C</td>\n",
       "      <td>Test</td>\n",
       "      <td>90.6941</td>\n",
       "      <td>8.73150</td>\n",
       "      <td>1</td>\n",
       "      <td>90.610909</td>\n",
       "      <td>23.045452</td>\n",
       "    </tr>\n",
       "    <tr>\n",
       "      <th>137735</th>\n",
       "      <td>C</td>\n",
       "      <td>Test</td>\n",
       "      <td>100.0000</td>\n",
       "      <td>8.51043</td>\n",
       "      <td>1</td>\n",
       "      <td>89.892754</td>\n",
       "      <td>22.790493</td>\n",
       "    </tr>\n",
       "    <tr>\n",
       "      <th>137737</th>\n",
       "      <td>C#C</td>\n",
       "      <td>Test</td>\n",
       "      <td>308.3950</td>\n",
       "      <td>0.01000</td>\n",
       "      <td>2</td>\n",
       "      <td>10.274034</td>\n",
       "      <td>6.190171</td>\n",
       "    </tr>\n",
       "    <tr>\n",
       "      <th>137738</th>\n",
       "      <td>C#C</td>\n",
       "      <td>Test</td>\n",
       "      <td>191.6600</td>\n",
       "      <td>16.11890</td>\n",
       "      <td>2</td>\n",
       "      <td>15.257702</td>\n",
       "      <td>4.088116</td>\n",
       "    </tr>\n",
       "    <tr>\n",
       "      <th>...</th>\n",
       "      <td>...</td>\n",
       "      <td>...</td>\n",
       "      <td>...</td>\n",
       "      <td>...</td>\n",
       "      <td>...</td>\n",
       "      <td>...</td>\n",
       "      <td>...</td>\n",
       "    </tr>\n",
       "    <tr>\n",
       "      <th>124098</th>\n",
       "      <td>c1coc(Cc2ccco2)c1</td>\n",
       "      <td>Train</td>\n",
       "      <td>440.0000</td>\n",
       "      <td>42.35520</td>\n",
       "      <td>11</td>\n",
       "      <td>42.299168</td>\n",
       "      <td>2.965742</td>\n",
       "    </tr>\n",
       "    <tr>\n",
       "      <th>124099</th>\n",
       "      <td>c1coc(Cc2ccco2)c1</td>\n",
       "      <td>Train</td>\n",
       "      <td>300.0000</td>\n",
       "      <td>52.88470</td>\n",
       "      <td>11</td>\n",
       "      <td>51.890205</td>\n",
       "      <td>5.720402</td>\n",
       "    </tr>\n",
       "    <tr>\n",
       "      <th>124078</th>\n",
       "      <td>c1coc(Cc2ccco2)c1</td>\n",
       "      <td>Train</td>\n",
       "      <td>480.0000</td>\n",
       "      <td>38.85640</td>\n",
       "      <td>11</td>\n",
       "      <td>38.877991</td>\n",
       "      <td>2.603239</td>\n",
       "    </tr>\n",
       "    <tr>\n",
       "      <th>124091</th>\n",
       "      <td>c1coc(Cc2ccco2)c1</td>\n",
       "      <td>Train</td>\n",
       "      <td>400.0000</td>\n",
       "      <td>45.58840</td>\n",
       "      <td>11</td>\n",
       "      <td>45.296219</td>\n",
       "      <td>3.306897</td>\n",
       "    </tr>\n",
       "    <tr>\n",
       "      <th>124080</th>\n",
       "      <td>c1coc(Cc2ccco2)c1</td>\n",
       "      <td>Train</td>\n",
       "      <td>500.0000</td>\n",
       "      <td>36.97130</td>\n",
       "      <td>11</td>\n",
       "      <td>37.073223</td>\n",
       "      <td>2.567383</td>\n",
       "    </tr>\n",
       "  </tbody>\n",
       "</table>\n",
       "<p>153105 rows × 7 columns</p>\n",
       "</div>"
      ],
      "text/plain": [
       "                   smiles Train/Valid/Test  temperature  HoV (kJ/mol)  \\\n",
       "137734                  C             Test     150.0000       6.61901   \n",
       "137736                  C             Test      90.6941       8.73150   \n",
       "137735                  C             Test     100.0000       8.51043   \n",
       "137737                C#C             Test     308.3950       0.01000   \n",
       "137738                C#C             Test     191.6600      16.11890   \n",
       "...                   ...              ...          ...           ...   \n",
       "124098  c1coc(Cc2ccco2)c1            Train     440.0000      42.35520   \n",
       "124099  c1coc(Cc2ccco2)c1            Train     300.0000      52.88470   \n",
       "124078  c1coc(Cc2ccco2)c1            Train     480.0000      38.85640   \n",
       "124091  c1coc(Cc2ccco2)c1            Train     400.0000      45.58840   \n",
       "124080  c1coc(Cc2ccco2)c1            Train     500.0000      36.97130   \n",
       "\n",
       "        total_atoms  Predicted     ML_unc  \n",
       "137734            1  87.557961  22.069706  \n",
       "137736            1  90.610909  23.045452  \n",
       "137735            1  89.892754  22.790493  \n",
       "137737            2  10.274034   6.190171  \n",
       "137738            2  15.257702   4.088116  \n",
       "...             ...        ...        ...  \n",
       "124098           11  42.299168   2.965742  \n",
       "124099           11  51.890205   5.720402  \n",
       "124078           11  38.877991   2.603239  \n",
       "124091           11  45.296219   3.306897  \n",
       "124080           11  37.073223   2.567383  \n",
       "\n",
       "[153105 rows x 7 columns]"
      ]
     },
     "execution_count": 6,
     "metadata": {},
     "output_type": "execute_result"
    }
   ],
   "source": [
    "data"
   ]
  },
  {
   "cell_type": "code",
   "execution_count": 7,
   "id": "ee1cf72a",
   "metadata": {},
   "outputs": [],
   "source": [
    "before_T_update = before_T_update.numpy()\n",
    "after_T_update = after_T_update.numpy()"
   ]
  },
  {
   "cell_type": "code",
   "execution_count": 8,
   "id": "f077dd7d",
   "metadata": {},
   "outputs": [
    {
     "name": "stderr",
     "output_type": "stream",
     "text": [
      "100%|██████████| 153105/153105 [00:07<00:00, 20620.61it/s]\n"
     ]
    }
   ],
   "source": [
    "from tqdm import tqdm\n",
    "norms = []\n",
    "for i in tqdm(range(len(before_T_update))):\n",
    "    norms.append( np.linalg.norm(before_T_update[i] - after_T_update[i], 2) )"
   ]
  },
  {
   "cell_type": "code",
   "execution_count": 9,
   "id": "19efa919",
   "metadata": {},
   "outputs": [
    {
     "data": {
      "text/plain": [
       "<matplotlib.collections.PathCollection at 0x284fee280>"
      ]
     },
     "execution_count": 9,
     "metadata": {},
     "output_type": "execute_result"
    },
    {
     "data": {
      "image/png": "[encoded data removed]",
      "text/plain": [
       "<Figure size 1800x1200 with 1 Axes>"
      ]
     },
     "metadata": {
      "needs_background": "light"
     },
     "output_type": "display_data"
    }
   ],
   "source": [
    "import matplotlib.pyplot as plt\n",
    "import seaborn as sns\n",
    "import pandas as pd\n",
    "sns.set(context='talk', style='ticks',\n",
    "        color_codes=True, rc={'legend.frameon': False})\n",
    "\n",
    "%matplotlib inline\n",
    "import matplotlib\n",
    "matplotlib.rcParams['figure.dpi'] = 300\n",
    "plt.rcParams[\"font.family\"] = 'Arial'\n",
    "plt.rcParams.update({'font.size': 24})\n",
    "\n",
    "plt.scatter(data['temperature'], norms, s=2)"
   ]
  },
  {
   "cell_type": "code",
   "execution_count": 10,
   "id": "15f71253",
   "metadata": {},
   "outputs": [
    {
     "data": {
      "text/plain": [
       "0.9900646865907132"
      ]
     },
     "execution_count": 10,
     "metadata": {},
     "output_type": "execute_result"
    }
   ],
   "source": [
    "np.corrcoef(data['temperature'], norms)[0][1]"
   ]
  },
  {
   "cell_type": "code",
   "execution_count": 11,
   "id": "6eb35773",
   "metadata": {},
   "outputs": [],
   "source": [
    "import copy\n",
    "from rdkit.Chem import rdDepictor\n",
    "from rdkit.Chem.Draw import rdMolDraw2D\n",
    "from IPython.display import SVG\n",
    "from IPython.display import display, Image\n",
    "import matplotlib\n",
    "import matplotlib.cm as cm\n",
    "from rdkit import Chem\n",
    "\n",
    "def drawmol(smiles, atom_attention_scores):\n",
    "    # need to replace atom_weights, bg.number_of_nodes\n",
    "    \n",
    "    norm = matplotlib.colors.Normalize(vmin=35, vmax=89)\n",
    "    cmap = cm.get_cmap('Greens')\n",
    "    plt_colors = cm.ScalarMappable(norm=norm, cmap=cmap)\n",
    "    atom_colors = {i: plt_colors.to_rgba(atom_attention_scores[i]) for i in range(len(atom_attention_scores))}\n",
    "\n",
    "    mol = Chem.MolFromSmiles(smiles)   \n",
    "    rdDepictor.Compute2DCoords(mol)\n",
    "    drawer = rdMolDraw2D.MolDraw2DSVG(600, 600)\n",
    "    drawer.SetFontSize(30)\n",
    "    \n",
    "    mol = rdMolDraw2D.PrepareMolForDrawing(mol)\n",
    "    drawer.DrawMolecule(mol, highlightAtoms=range(len(atom_attention_scores)),\n",
    "                             highlightBonds=[],\n",
    "                             highlightAtomColors=atom_colors)\n",
    "    drawer.FinishDrawing()\n",
    "    svg = drawer.GetDrawingText()\n",
    "    svg = svg.replace('svg:', '')\n",
    "    return svg"
   ]
  },
  {
   "cell_type": "code",
   "execution_count": 12,
   "id": "2d2651ea",
   "metadata": {},
   "outputs": [],
   "source": [
    "#smiles_of_interest = 'CCCC(O)CC(=O)OCC'\n",
    "smiles_of_interest = 'CCCCCC(=O)OCC'\n",
    "row_indices = [i for i, x in enumerate(list(data.smiles)) if x == smiles_of_interest]\n"
   ]
  },
  {
   "cell_type": "code",
   "execution_count": 13,
   "id": "d697d991",
   "metadata": {},
   "outputs": [],
   "source": [
    "diffs_by_atom_each_T = {}\n",
    "for i in row_indices: # i: each temperature\n",
    "    T = list(data.temperature)[i]\n",
    "    atomfeat_before, atomfeat_after = before_T_update[i], after_T_update[i]\n",
    "    \n",
    "    diffs_by_atom = []\n",
    "    for j in range(Chem.MolFromSmiles(smiles_of_interest).GetNumHeavyAtoms()): # per each atom\n",
    "        diffs_by_atom.append(np.linalg.norm(atomfeat_before[j] - atomfeat_after[j], 2))   \n",
    "    diffs_by_atom_each_T[T] = diffs_by_atom\n",
    "    "
   ]
  },
  {
   "cell_type": "code",
   "execution_count": 14,
   "id": "7d9e73f0",
   "metadata": {},
   "outputs": [
    {
     "name": "stdout",
     "output_type": "stream",
     "text": [
      "400.0\n"
     ]
    },
    {
     "data": {
      "image/svg+xml": [
       "<svg xmlns=\"http://www.w3.org/2000/svg\" xmlns:rdkit=\"http://www.rdkit.org/xml\" xmlns:xlink=\"http://www.w3.org/1999/xlink\" version=\"1.1\" baseProfile=\"full\" xml:space=\"preserve\" width=\"600px\" height=\"600px\" viewBox=\"0 0 600 600\">\n",
       "<!-- END OF HEADER -->\n",
       "<rect style=\"opacity:1.0;fill:#FFFFFF;stroke:none\" width=\"600\" height=\"600\" x=\"0\" y=\"0\"> </rect>\n",
       "<ellipse cx=\"42.1628\" cy=\"346.396\" rx=\"14.8901\" ry=\"14.8901\" style=\"fill:#EEF8EB;fill-rule:evenodd;stroke:#EEF8EB;stroke-width:1.0px;stroke-linecap:butt;stroke-linejoin:miter;stroke-opacity:1\"/>\n",
       "<ellipse cx=\"107.471\" cy=\"310.651\" rx=\"14.8901\" ry=\"14.8901\" style=\"fill:#EBF7E7;fill-rule:evenodd;stroke:#EBF7E7;stroke-width:1.0px;stroke-linecap:butt;stroke-linejoin:miter;stroke-opacity:1\"/>\n",
       "<ellipse cx=\"171.081\" cy=\"349.336\" rx=\"14.8901\" ry=\"14.8901\" style=\"fill:#D8F0D2;fill-rule:evenodd;stroke:#D8F0D2;stroke-width:1.0px;stroke-linecap:butt;stroke-linejoin:miter;stroke-opacity:1\"/>\n",
       "<ellipse cx=\"236.389\" cy=\"313.591\" rx=\"14.8901\" ry=\"14.8901\" style=\"fill:#E0F3DA;fill-rule:evenodd;stroke:#E0F3DA;stroke-width:1.0px;stroke-linecap:butt;stroke-linejoin:miter;stroke-opacity:1\"/>\n",
       "<ellipse cx=\"300\" cy=\"352.276\" rx=\"14.8901\" ry=\"14.8901\" style=\"fill:#C1E6BB;fill-rule:evenodd;stroke:#C1E6BB;stroke-width:1.0px;stroke-linecap:butt;stroke-linejoin:miter;stroke-opacity:1\"/>\n",
       "<ellipse cx=\"365.308\" cy=\"316.53\" rx=\"14.8901\" ry=\"14.8901\" style=\"fill:#D3EECD;fill-rule:evenodd;stroke:#D3EECD;stroke-width:1.0px;stroke-linecap:butt;stroke-linejoin:miter;stroke-opacity:1\"/>\n",
       "<ellipse cx=\"367.005\" cy=\"242.263\" rx=\"14.8901\" ry=\"15.309\" style=\"fill:#CBEAC4;fill-rule:evenodd;stroke:#CBEAC4;stroke-width:1.0px;stroke-linecap:butt;stroke-linejoin:miter;stroke-opacity:1\"/>\n",
       "<ellipse cx=\"428.919\" cy=\"355.38\" rx=\"14.8901\" ry=\"15.309\" style=\"fill:#EAF6E5;fill-rule:evenodd;stroke:#EAF6E5;stroke-width:1.0px;stroke-linecap:butt;stroke-linejoin:miter;stroke-opacity:1\"/>\n",
       "<ellipse cx=\"494.227\" cy=\"319.47\" rx=\"14.8901\" ry=\"14.8901\" style=\"fill:#F5FBF3;fill-rule:evenodd;stroke:#F5FBF3;stroke-width:1.0px;stroke-linecap:butt;stroke-linejoin:miter;stroke-opacity:1\"/>\n",
       "<ellipse cx=\"557.837\" cy=\"358.156\" rx=\"14.8901\" ry=\"14.8901\" style=\"fill:#F5FBF3;fill-rule:evenodd;stroke:#F5FBF3;stroke-width:1.0px;stroke-linecap:butt;stroke-linejoin:miter;stroke-opacity:1\"/>\n",
       "<path class=\"bond-0 atom-0 atom-1\" d=\"M 42.1628,346.396 L 107.471,310.651\" style=\"fill:none;fill-rule:evenodd;stroke:#000000;stroke-width:2.0px;stroke-linecap:butt;stroke-linejoin:miter;stroke-opacity:1\"/>\n",
       "<path class=\"bond-1 atom-1 atom-2\" d=\"M 107.471,310.651 L 171.081,349.336\" style=\"fill:none;fill-rule:evenodd;stroke:#000000;stroke-width:2.0px;stroke-linecap:butt;stroke-linejoin:miter;stroke-opacity:1\"/>\n",
       "<path class=\"bond-2 atom-2 atom-3\" d=\"M 171.081,349.336 L 236.389,313.591\" style=\"fill:none;fill-rule:evenodd;stroke:#000000;stroke-width:2.0px;stroke-linecap:butt;stroke-linejoin:miter;stroke-opacity:1\"/>\n",
       "<path class=\"bond-3 atom-3 atom-4\" d=\"M 236.389,313.591 L 300,352.276\" style=\"fill:none;fill-rule:evenodd;stroke:#000000;stroke-width:2.0px;stroke-linecap:butt;stroke-linejoin:miter;stroke-opacity:1\"/>\n",
       "<path class=\"bond-4 atom-4 atom-5\" d=\"M 300,352.276 L 365.308,316.53\" style=\"fill:none;fill-rule:evenodd;stroke:#000000;stroke-width:2.0px;stroke-linecap:butt;stroke-linejoin:miter;stroke-opacity:1\"/>\n",
       "<path class=\"bond-5 atom-5 atom-6\" d=\"M 372.751,316.7 L 373.453,285.91\" style=\"fill:none;fill-rule:evenodd;stroke:#000000;stroke-width:2.0px;stroke-linecap:butt;stroke-linejoin:miter;stroke-opacity:1\"/>\n",
       "<path class=\"bond-5 atom-5 atom-6\" d=\"M 373.453,285.91 L 374.155,255.119\" style=\"fill:none;fill-rule:evenodd;stroke:#FF0000;stroke-width:2.0px;stroke-linecap:butt;stroke-linejoin:miter;stroke-opacity:1\"/>\n",
       "<path class=\"bond-5 atom-5 atom-6\" d=\"M 357.865,316.361 L 358.567,285.57\" style=\"fill:none;fill-rule:evenodd;stroke:#000000;stroke-width:2.0px;stroke-linecap:butt;stroke-linejoin:miter;stroke-opacity:1\"/>\n",
       "<path class=\"bond-5 atom-5 atom-6\" d=\"M 358.567,285.57 L 359.269,254.78\" style=\"fill:none;fill-rule:evenodd;stroke:#FF0000;stroke-width:2.0px;stroke-linecap:butt;stroke-linejoin:miter;stroke-opacity:1\"/>\n",
       "<path class=\"bond-6 atom-5 atom-7\" d=\"M 365.308,316.53 L 391.343,332.364\" style=\"fill:none;fill-rule:evenodd;stroke:#000000;stroke-width:2.0px;stroke-linecap:butt;stroke-linejoin:miter;stroke-opacity:1\"/>\n",
       "<path class=\"bond-6 atom-5 atom-7\" d=\"M 391.343,332.364 L 417.379,348.198\" style=\"fill:none;fill-rule:evenodd;stroke:#FF0000;stroke-width:2.0px;stroke-linecap:butt;stroke-linejoin:miter;stroke-opacity:1\"/>\n",
       "<path class=\"bond-7 atom-7 atom-8\" d=\"M 440.458,348.9 L 467.342,334.185\" style=\"fill:none;fill-rule:evenodd;stroke:#FF0000;stroke-width:2.0px;stroke-linecap:butt;stroke-linejoin:miter;stroke-opacity:1\"/>\n",
       "<path class=\"bond-7 atom-7 atom-8\" d=\"M 467.342,334.185 L 494.227,319.47\" style=\"fill:none;fill-rule:evenodd;stroke:#000000;stroke-width:2.0px;stroke-linecap:butt;stroke-linejoin:miter;stroke-opacity:1\"/>\n",
       "<path class=\"bond-8 atom-8 atom-9\" d=\"M 494.227,319.47 L 557.837,358.156\" style=\"fill:none;fill-rule:evenodd;stroke:#000000;stroke-width:2.0px;stroke-linecap:butt;stroke-linejoin:miter;stroke-opacity:1\"/>\n",
       "<path class=\"atom-6\" d=\"M 357.327 242.159 Q 357.327 237.096, 359.828 234.267 Q 362.33 231.438, 367.005 231.438 Q 371.681 231.438, 374.182 234.267 Q 376.684 237.096, 376.684 242.159 Q 376.684 247.281, 374.153 250.199 Q 371.621 253.088, 367.005 253.088 Q 362.36 253.088, 359.828 250.199 Q 357.327 247.311, 357.327 242.159 M 367.005 250.706 Q 370.222 250.706, 371.949 248.562 Q 373.706 246.388, 373.706 242.159 Q 373.706 238.019, 371.949 235.935 Q 370.222 233.82, 367.005 233.82 Q 363.789 233.82, 362.032 235.905 Q 360.305 237.99, 360.305 242.159 Q 360.305 246.417, 362.032 248.562 Q 363.789 250.706, 367.005 250.706 \" fill=\"#FF0000\"/>\n",
       "<path class=\"atom-7\" d=\"M 419.24 355.276 Q 419.24 350.213, 421.742 347.384 Q 424.243 344.555, 428.919 344.555 Q 433.594 344.555, 436.096 347.384 Q 438.597 350.213, 438.597 355.276 Q 438.597 360.398, 436.066 363.316 Q 433.535 366.205, 428.919 366.205 Q 424.273 366.205, 421.742 363.316 Q 419.24 360.428, 419.24 355.276 M 428.919 363.822 Q 432.135 363.822, 433.862 361.678 Q 435.619 359.504, 435.619 355.276 Q 435.619 351.136, 433.862 349.051 Q 432.135 346.937, 428.919 346.937 Q 425.702 346.937, 423.945 349.022 Q 422.218 351.106, 422.218 355.276 Q 422.218 359.534, 423.945 361.678 Q 425.702 363.822, 428.919 363.822 \" fill=\"#FF0000\"/>\n",
       "</svg>"
      ],
      "text/plain": [
       "<IPython.core.display.SVG object>"
      ]
     },
     "metadata": {},
     "output_type": "display_data"
    },
    {
     "name": "stdout",
     "output_type": "stream",
     "text": [
      "600.0\n"
     ]
    },
    {
     "data": {
      "image/svg+xml": [
       "<svg xmlns=\"http://www.w3.org/2000/svg\" xmlns:rdkit=\"http://www.rdkit.org/xml\" xmlns:xlink=\"http://www.w3.org/1999/xlink\" version=\"1.1\" baseProfile=\"full\" xml:space=\"preserve\" width=\"600px\" height=\"600px\" viewBox=\"0 0 600 600\">\n",
       "<!-- END OF HEADER -->\n",
       "<rect style=\"opacity:1.0;fill:#FFFFFF;stroke:none\" width=\"600\" height=\"600\" x=\"0\" y=\"0\"> </rect>\n",
       "<ellipse cx=\"42.1628\" cy=\"346.396\" rx=\"14.8901\" ry=\"14.8901\" style=\"fill:#3AA458;fill-rule:evenodd;stroke:#3AA458;stroke-width:1.0px;stroke-linecap:butt;stroke-linejoin:miter;stroke-opacity:1\"/>\n",
       "<ellipse cx=\"107.471\" cy=\"310.651\" rx=\"14.8901\" ry=\"14.8901\" style=\"fill:#54B466;fill-rule:evenodd;stroke:#54B466;stroke-width:1.0px;stroke-linecap:butt;stroke-linejoin:miter;stroke-opacity:1\"/>\n",
       "<ellipse cx=\"171.081\" cy=\"349.336\" rx=\"14.8901\" ry=\"14.8901\" style=\"fill:#80C97F;fill-rule:evenodd;stroke:#80C97F;stroke-width:1.0px;stroke-linecap:butt;stroke-linejoin:miter;stroke-opacity:1\"/>\n",
       "<ellipse cx=\"236.389\" cy=\"313.591\" rx=\"14.8901\" ry=\"14.8901\" style=\"fill:#87CC85;fill-rule:evenodd;stroke:#87CC85;stroke-width:1.0px;stroke-linecap:butt;stroke-linejoin:miter;stroke-opacity:1\"/>\n",
       "<ellipse cx=\"300\" cy=\"352.276\" rx=\"14.8901\" ry=\"14.8901\" style=\"fill:#50B264;fill-rule:evenodd;stroke:#50B264;stroke-width:1.0px;stroke-linecap:butt;stroke-linejoin:miter;stroke-opacity:1\"/>\n",
       "<ellipse cx=\"365.308\" cy=\"316.53\" rx=\"14.8901\" ry=\"14.8901\" style=\"fill:#68BE70;fill-rule:evenodd;stroke:#68BE70;stroke-width:1.0px;stroke-linecap:butt;stroke-linejoin:miter;stroke-opacity:1\"/>\n",
       "<ellipse cx=\"367.005\" cy=\"242.263\" rx=\"14.8901\" ry=\"15.309\" style=\"fill:#349D52;fill-rule:evenodd;stroke:#349D52;stroke-width:1.0px;stroke-linecap:butt;stroke-linejoin:miter;stroke-opacity:1\"/>\n",
       "<ellipse cx=\"428.919\" cy=\"355.38\" rx=\"14.8901\" ry=\"15.309\" style=\"fill:#61BA6C;fill-rule:evenodd;stroke:#61BA6C;stroke-width:1.0px;stroke-linecap:butt;stroke-linejoin:miter;stroke-opacity:1\"/>\n",
       "<ellipse cx=\"494.227\" cy=\"319.47\" rx=\"14.8901\" ry=\"14.8901\" style=\"fill:#49AF61;fill-rule:evenodd;stroke:#49AF61;stroke-width:1.0px;stroke-linecap:butt;stroke-linejoin:miter;stroke-opacity:1\"/>\n",
       "<ellipse cx=\"557.837\" cy=\"358.156\" rx=\"14.8901\" ry=\"14.8901\" style=\"fill:#279048;fill-rule:evenodd;stroke:#279048;stroke-width:1.0px;stroke-linecap:butt;stroke-linejoin:miter;stroke-opacity:1\"/>\n",
       "<path class=\"bond-0 atom-0 atom-1\" d=\"M 42.1628,346.396 L 107.471,310.651\" style=\"fill:none;fill-rule:evenodd;stroke:#000000;stroke-width:2.0px;stroke-linecap:butt;stroke-linejoin:miter;stroke-opacity:1\"/>\n",
       "<path class=\"bond-1 atom-1 atom-2\" d=\"M 107.471,310.651 L 171.081,349.336\" style=\"fill:none;fill-rule:evenodd;stroke:#000000;stroke-width:2.0px;stroke-linecap:butt;stroke-linejoin:miter;stroke-opacity:1\"/>\n",
       "<path class=\"bond-2 atom-2 atom-3\" d=\"M 171.081,349.336 L 236.389,313.591\" style=\"fill:none;fill-rule:evenodd;stroke:#000000;stroke-width:2.0px;stroke-linecap:butt;stroke-linejoin:miter;stroke-opacity:1\"/>\n",
       "<path class=\"bond-3 atom-3 atom-4\" d=\"M 236.389,313.591 L 300,352.276\" style=\"fill:none;fill-rule:evenodd;stroke:#000000;stroke-width:2.0px;stroke-linecap:butt;stroke-linejoin:miter;stroke-opacity:1\"/>\n",
       "<path class=\"bond-4 atom-4 atom-5\" d=\"M 300,352.276 L 365.308,316.53\" style=\"fill:none;fill-rule:evenodd;stroke:#000000;stroke-width:2.0px;stroke-linecap:butt;stroke-linejoin:miter;stroke-opacity:1\"/>\n",
       "<path class=\"bond-5 atom-5 atom-6\" d=\"M 372.751,316.7 L 373.453,285.91\" style=\"fill:none;fill-rule:evenodd;stroke:#000000;stroke-width:2.0px;stroke-linecap:butt;stroke-linejoin:miter;stroke-opacity:1\"/>\n",
       "<path class=\"bond-5 atom-5 atom-6\" d=\"M 373.453,285.91 L 374.155,255.119\" style=\"fill:none;fill-rule:evenodd;stroke:#FF0000;stroke-width:2.0px;stroke-linecap:butt;stroke-linejoin:miter;stroke-opacity:1\"/>\n",
       "<path class=\"bond-5 atom-5 atom-6\" d=\"M 357.865,316.361 L 358.567,285.57\" style=\"fill:none;fill-rule:evenodd;stroke:#000000;stroke-width:2.0px;stroke-linecap:butt;stroke-linejoin:miter;stroke-opacity:1\"/>\n",
       "<path class=\"bond-5 atom-5 atom-6\" d=\"M 358.567,285.57 L 359.269,254.78\" style=\"fill:none;fill-rule:evenodd;stroke:#FF0000;stroke-width:2.0px;stroke-linecap:butt;stroke-linejoin:miter;stroke-opacity:1\"/>\n",
       "<path class=\"bond-6 atom-5 atom-7\" d=\"M 365.308,316.53 L 391.343,332.364\" style=\"fill:none;fill-rule:evenodd;stroke:#000000;stroke-width:2.0px;stroke-linecap:butt;stroke-linejoin:miter;stroke-opacity:1\"/>\n",
       "<path class=\"bond-6 atom-5 atom-7\" d=\"M 391.343,332.364 L 417.379,348.198\" style=\"fill:none;fill-rule:evenodd;stroke:#FF0000;stroke-width:2.0px;stroke-linecap:butt;stroke-linejoin:miter;stroke-opacity:1\"/>\n",
       "<path class=\"bond-7 atom-7 atom-8\" d=\"M 440.458,348.9 L 467.342,334.185\" style=\"fill:none;fill-rule:evenodd;stroke:#FF0000;stroke-width:2.0px;stroke-linecap:butt;stroke-linejoin:miter;stroke-opacity:1\"/>\n",
       "<path class=\"bond-7 atom-7 atom-8\" d=\"M 467.342,334.185 L 494.227,319.47\" style=\"fill:none;fill-rule:evenodd;stroke:#000000;stroke-width:2.0px;stroke-linecap:butt;stroke-linejoin:miter;stroke-opacity:1\"/>\n",
       "<path class=\"bond-8 atom-8 atom-9\" d=\"M 494.227,319.47 L 557.837,358.156\" style=\"fill:none;fill-rule:evenodd;stroke:#000000;stroke-width:2.0px;stroke-linecap:butt;stroke-linejoin:miter;stroke-opacity:1\"/>\n",
       "<path class=\"atom-6\" d=\"M 357.327 242.159 Q 357.327 237.096, 359.828 234.267 Q 362.33 231.438, 367.005 231.438 Q 371.681 231.438, 374.182 234.267 Q 376.684 237.096, 376.684 242.159 Q 376.684 247.281, 374.153 250.199 Q 371.621 253.088, 367.005 253.088 Q 362.36 253.088, 359.828 250.199 Q 357.327 247.311, 357.327 242.159 M 367.005 250.706 Q 370.222 250.706, 371.949 248.562 Q 373.706 246.388, 373.706 242.159 Q 373.706 238.019, 371.949 235.935 Q 370.222 233.82, 367.005 233.82 Q 363.789 233.82, 362.032 235.905 Q 360.305 237.99, 360.305 242.159 Q 360.305 246.417, 362.032 248.562 Q 363.789 250.706, 367.005 250.706 \" fill=\"#FF0000\"/>\n",
       "<path class=\"atom-7\" d=\"M 419.24 355.276 Q 419.24 350.213, 421.742 347.384 Q 424.243 344.555, 428.919 344.555 Q 433.594 344.555, 436.096 347.384 Q 438.597 350.213, 438.597 355.276 Q 438.597 360.398, 436.066 363.316 Q 433.535 366.205, 428.919 366.205 Q 424.273 366.205, 421.742 363.316 Q 419.24 360.428, 419.24 355.276 M 428.919 363.822 Q 432.135 363.822, 433.862 361.678 Q 435.619 359.504, 435.619 355.276 Q 435.619 351.136, 433.862 349.051 Q 432.135 346.937, 428.919 346.937 Q 425.702 346.937, 423.945 349.022 Q 422.218 351.106, 422.218 355.276 Q 422.218 359.534, 423.945 361.678 Q 425.702 363.822, 428.919 363.822 \" fill=\"#FF0000\"/>\n",
       "</svg>"
      ],
      "text/plain": [
       "<IPython.core.display.SVG object>"
      ]
     },
     "metadata": {},
     "output_type": "display_data"
    }
   ],
   "source": [
    "for T in sorted(diffs_by_atom_each_T.keys()):\n",
    "    #print(T, min(diffs_by_atom_each_T[T]), max(diffs_by_atom_each_T[T]))\n",
    "    if T == 400.0 or T == 600.0:\n",
    "        print(T)\n",
    "        display(SVG(drawmol(smiles_of_interest, diffs_by_atom_each_T[T])))\n",
    "        #print(T, diffs_by_atom_each_T[T])"
   ]
  },
  {
   "cell_type": "code",
   "execution_count": null,
   "id": "fe8e02e0",
   "metadata": {},
   "outputs": [],
   "source": []
  }
 ],
 "metadata": {
  "kernelspec": {
   "display_name": "Python 3",
   "language": "python",
   "name": "python3"
  },
  "language_info": {
   "codemirror_mode": {
    "name": "ipython",
    "version": 3
   },
   "file_extension": ".py",
   "mimetype": "text/x-python",
   "name": "python",
   "nbconvert_exporter": "python",
   "pygments_lexer": "ipython3",
   "version": "3.8.10"
  }
 },
 "nbformat": 4,
 "nbformat_minor": 5
}
